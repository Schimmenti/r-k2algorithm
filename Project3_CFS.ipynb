{
 "cells": [
  {
   "cell_type": "code",
   "execution_count": null,
   "metadata": {},
   "outputs": [],
   "source": [
    "#install.packages('Rcpp')\n",
    "#install.packages('bnstruct')\n",
    "#install.packages('bnlearn')"
   ]
  },
  {
   "cell_type": "code",
   "execution_count": 17,
   "metadata": {},
   "outputs": [],
   "source": [
    "library(Rcpp)\n",
    "library(bnstruct)\n",
    "library(bnlearn)"
   ]
  },
  {
   "cell_type": "code",
   "execution_count": 27,
   "metadata": {},
   "outputs": [],
   "source": [
    "sourceCpp('rk2alg.cpp')"
   ]
  },
  {
   "cell_type": "code",
   "execution_count": 28,
   "metadata": {},
   "outputs": [],
   "source": [
    "order <- c(0,1,2)  \n",
    "r <- c(2,2,2)\n",
    "data <- matrix(c(1,0,0,1,1,1,0,0,1,1,1,1,0,0,0,0,1,1,1,1,1,0,0,0,1,1,1,0,0,0), 10,3, byrow=T)\n",
    "mode(data) <- \"integer\""
   ]
  },
  {
   "cell_type": "code",
   "execution_count": 29,
   "metadata": {},
   "outputs": [
    {
     "data": {
      "text/html": [
       "<ol>\n",
       "\t<li>0</li>\n",
       "\t<li>0</li>\n",
       "\t<li>1</li>\n",
       "</ol>\n"
      ],
      "text/latex": [
       "\\begin{enumerate}\n",
       "\\item 0\n",
       "\\item 0\n",
       "\\item 1\n",
       "\\end{enumerate}\n"
      ],
      "text/markdown": [
       "1. 0\n",
       "2. 0\n",
       "3. 1\n",
       "\n",
       "\n"
      ],
      "text/plain": [
       "[[1]]\n",
       "[1] 0\n",
       "\n",
       "[[2]]\n",
       "[1] 0\n",
       "\n",
       "[[3]]\n",
       "[1] 1\n"
      ]
     },
     "metadata": {},
     "output_type": "display_data"
    }
   ],
   "source": [
    "res <- k2procedure(data,r,order,u=2)\n",
    "res"
   ]
  },
  {
   "cell_type": "markdown",
   "metadata": {},
   "source": [
    "### Bigger dataset"
   ]
  },
  {
   "cell_type": "code",
   "execution_count": 30,
   "metadata": {
    "scrolled": false
   },
   "outputs": [],
   "source": [
    "X <- as.matrix(asia)\n",
    "n <- dim(X)[2]\n",
    "m <- dim(X)[1]\n",
    "X[X=='yes']=1\n",
    "X[X=='no']=0\n",
    "X<-matrix(as.integer(as.character(X)), m, n)\n",
    "order <- c(0,1,2,4,5,6,7,3)\n",
    "r <- rep(2, 8)\n",
    "X_train <- X[sample(m,100),]\n",
    "res <- k2procedure(X_train,r,order,4,)"
   ]
  },
  {
   "cell_type": "code",
   "execution_count": 31,
   "metadata": {},
   "outputs": [
    {
     "data": {
      "text/html": [
       "<ol>\n",
       "\t<li>0</li>\n",
       "\t<li>1</li>\n",
       "\t<li>2</li>\n",
       "\t<li><ol class=list-inline>\n",
       "\t<li>4</li>\n",
       "\t<li>5</li>\n",
       "</ol>\n",
       "</li>\n",
       "\t<li><ol class=list-inline>\n",
       "\t<li>0</li>\n",
       "\t<li>2</li>\n",
       "</ol>\n",
       "</li>\n",
       "\t<li><ol class=list-inline>\n",
       "\t<li>1</li>\n",
       "\t<li>2</li>\n",
       "\t<li>4</li>\n",
       "</ol>\n",
       "</li>\n",
       "\t<li><ol class=list-inline>\n",
       "\t<li>1</li>\n",
       "\t<li>2</li>\n",
       "\t<li>4</li>\n",
       "</ol>\n",
       "</li>\n",
       "\t<li>7</li>\n",
       "</ol>\n"
      ],
      "text/latex": [
       "\\begin{enumerate}\n",
       "\\item 0\n",
       "\\item 1\n",
       "\\item 2\n",
       "\\item \\begin{enumerate*}\n",
       "\\item 4\n",
       "\\item 5\n",
       "\\end{enumerate*}\n",
       "\n",
       "\\item \\begin{enumerate*}\n",
       "\\item 0\n",
       "\\item 2\n",
       "\\end{enumerate*}\n",
       "\n",
       "\\item \\begin{enumerate*}\n",
       "\\item 1\n",
       "\\item 2\n",
       "\\item 4\n",
       "\\end{enumerate*}\n",
       "\n",
       "\\item \\begin{enumerate*}\n",
       "\\item 1\n",
       "\\item 2\n",
       "\\item 4\n",
       "\\end{enumerate*}\n",
       "\n",
       "\\item 7\n",
       "\\end{enumerate}\n"
      ],
      "text/markdown": [
       "1. 0\n",
       "2. 1\n",
       "3. 2\n",
       "4. 1. 4\n",
       "2. 5\n",
       "\n",
       "\n",
       "\n",
       "5. 1. 0\n",
       "2. 2\n",
       "\n",
       "\n",
       "\n",
       "6. 1. 1\n",
       "2. 2\n",
       "3. 4\n",
       "\n",
       "\n",
       "\n",
       "7. 1. 1\n",
       "2. 2\n",
       "3. 4\n",
       "\n",
       "\n",
       "\n",
       "8. 7\n",
       "\n",
       "\n"
      ],
      "text/plain": [
       "[[1]]\n",
       "[1] 0\n",
       "\n",
       "[[2]]\n",
       "[1] 1\n",
       "\n",
       "[[3]]\n",
       "[1] 2\n",
       "\n",
       "[[4]]\n",
       "[1] 4 5\n",
       "\n",
       "[[5]]\n",
       "[1] 0 2\n",
       "\n",
       "[[6]]\n",
       "[1] 1 2 4\n",
       "\n",
       "[[7]]\n",
       "[1] 1 2 4\n",
       "\n",
       "[[8]]\n",
       "[1] 7\n"
      ]
     },
     "metadata": {},
     "output_type": "display_data"
    }
   ],
   "source": [
    "res <- k2procedure(X,r,order,verbose=0,u=4,50)\n",
    "res"
   ]
  },
  {
   "cell_type": "code",
   "execution_count": 38,
   "metadata": {},
   "outputs": [
    {
     "data": {
      "text/html": [
       "<table>\n",
       "<caption>A matrix: 32 × 6 of type dbl</caption>\n",
       "<thead>\n",
       "\t<tr><th scope=col>cond. x0</th><th scope=col>cond. x1</th><th scope=col>cond. x2</th><th scope=col>cond. x4</th><th scope=col>x3</th><th scope=col>P</th></tr>\n",
       "</thead>\n",
       "<tbody>\n",
       "\t<tr><td>0</td><td>0</td><td>0</td><td>0</td><td>0</td><td>0.983739837</td></tr>\n",
       "\t<tr><td>0</td><td>0</td><td>0</td><td>0</td><td>1</td><td>0.016260163</td></tr>\n",
       "\t<tr><td>0</td><td>0</td><td>0</td><td>1</td><td>0</td><td>0.993112948</td></tr>\n",
       "\t<tr><td>0</td><td>0</td><td>0</td><td>1</td><td>1</td><td>0.006887052</td></tr>\n",
       "\t<tr><td>0</td><td>0</td><td>1</td><td>0</td><td>0</td><td>1.000000000</td></tr>\n",
       "\t<tr><td>0</td><td>0</td><td>1</td><td>0</td><td>1</td><td>0.000000000</td></tr>\n",
       "\t<tr><td>0</td><td>0</td><td>1</td><td>1</td><td>0</td><td>0.916666667</td></tr>\n",
       "\t<tr><td>0</td><td>0</td><td>1</td><td>1</td><td>1</td><td>0.083333333</td></tr>\n",
       "\t<tr><td>0</td><td>1</td><td>0</td><td>0</td><td>0</td><td>0.871060172</td></tr>\n",
       "\t<tr><td>0</td><td>1</td><td>0</td><td>0</td><td>1</td><td>0.128939828</td></tr>\n",
       "\t<tr><td>0</td><td>1</td><td>0</td><td>1</td><td>0</td><td>0.887570621</td></tr>\n",
       "\t<tr><td>0</td><td>1</td><td>0</td><td>1</td><td>1</td><td>0.112429379</td></tr>\n",
       "\t<tr><td>0</td><td>1</td><td>1</td><td>0</td><td>0</td><td>1.000000000</td></tr>\n",
       "\t<tr><td>0</td><td>1</td><td>1</td><td>0</td><td>1</td><td>0.000000000</td></tr>\n",
       "\t<tr><td>0</td><td>1</td><td>1</td><td>1</td><td>0</td><td>0.785714286</td></tr>\n",
       "\t<tr><td>0</td><td>1</td><td>1</td><td>1</td><td>1</td><td>0.214285714</td></tr>\n",
       "\t<tr><td>1</td><td>0</td><td>0</td><td>0</td><td>0</td><td>1.000000000</td></tr>\n",
       "\t<tr><td>1</td><td>0</td><td>0</td><td>0</td><td>1</td><td>0.000000000</td></tr>\n",
       "\t<tr><td>1</td><td>0</td><td>0</td><td>1</td><td>0</td><td>1.000000000</td></tr>\n",
       "\t<tr><td>1</td><td>0</td><td>0</td><td>1</td><td>1</td><td>0.000000000</td></tr>\n",
       "\t<tr><td>1</td><td>0</td><td>1</td><td>0</td><td>0</td><td>        NaN</td></tr>\n",
       "\t<tr><td>1</td><td>0</td><td>1</td><td>0</td><td>1</td><td>        NaN</td></tr>\n",
       "\t<tr><td>1</td><td>0</td><td>1</td><td>1</td><td>0</td><td>1.000000000</td></tr>\n",
       "\t<tr><td>1</td><td>0</td><td>1</td><td>1</td><td>1</td><td>0.000000000</td></tr>\n",
       "\t<tr><td>1</td><td>1</td><td>0</td><td>0</td><td>0</td><td>0.400000000</td></tr>\n",
       "\t<tr><td>1</td><td>1</td><td>0</td><td>0</td><td>1</td><td>0.600000000</td></tr>\n",
       "\t<tr><td>1</td><td>1</td><td>0</td><td>1</td><td>0</td><td>0.950000000</td></tr>\n",
       "\t<tr><td>1</td><td>1</td><td>0</td><td>1</td><td>1</td><td>0.050000000</td></tr>\n",
       "\t<tr><td>1</td><td>1</td><td>1</td><td>0</td><td>0</td><td>        NaN</td></tr>\n",
       "\t<tr><td>1</td><td>1</td><td>1</td><td>0</td><td>1</td><td>        NaN</td></tr>\n",
       "\t<tr><td>1</td><td>1</td><td>1</td><td>1</td><td>0</td><td>1.000000000</td></tr>\n",
       "\t<tr><td>1</td><td>1</td><td>1</td><td>1</td><td>1</td><td>0.000000000</td></tr>\n",
       "</tbody>\n",
       "</table>\n"
      ],
      "text/latex": [
       "A matrix: 32 × 6 of type dbl\n",
       "\\begin{tabular}{llllll}\n",
       " cond. x0 & cond. x1 & cond. x2 & cond. x4 & x3 & P\\\\\n",
       "\\hline\n",
       "\t 0 & 0 & 0 & 0 & 0 & 0.983739837\\\\\n",
       "\t 0 & 0 & 0 & 0 & 1 & 0.016260163\\\\\n",
       "\t 0 & 0 & 0 & 1 & 0 & 0.993112948\\\\\n",
       "\t 0 & 0 & 0 & 1 & 1 & 0.006887052\\\\\n",
       "\t 0 & 0 & 1 & 0 & 0 & 1.000000000\\\\\n",
       "\t 0 & 0 & 1 & 0 & 1 & 0.000000000\\\\\n",
       "\t 0 & 0 & 1 & 1 & 0 & 0.916666667\\\\\n",
       "\t 0 & 0 & 1 & 1 & 1 & 0.083333333\\\\\n",
       "\t 0 & 1 & 0 & 0 & 0 & 0.871060172\\\\\n",
       "\t 0 & 1 & 0 & 0 & 1 & 0.128939828\\\\\n",
       "\t 0 & 1 & 0 & 1 & 0 & 0.887570621\\\\\n",
       "\t 0 & 1 & 0 & 1 & 1 & 0.112429379\\\\\n",
       "\t 0 & 1 & 1 & 0 & 0 & 1.000000000\\\\\n",
       "\t 0 & 1 & 1 & 0 & 1 & 0.000000000\\\\\n",
       "\t 0 & 1 & 1 & 1 & 0 & 0.785714286\\\\\n",
       "\t 0 & 1 & 1 & 1 & 1 & 0.214285714\\\\\n",
       "\t 1 & 0 & 0 & 0 & 0 & 1.000000000\\\\\n",
       "\t 1 & 0 & 0 & 0 & 1 & 0.000000000\\\\\n",
       "\t 1 & 0 & 0 & 1 & 0 & 1.000000000\\\\\n",
       "\t 1 & 0 & 0 & 1 & 1 & 0.000000000\\\\\n",
       "\t 1 & 0 & 1 & 0 & 0 &         NaN\\\\\n",
       "\t 1 & 0 & 1 & 0 & 1 &         NaN\\\\\n",
       "\t 1 & 0 & 1 & 1 & 0 & 1.000000000\\\\\n",
       "\t 1 & 0 & 1 & 1 & 1 & 0.000000000\\\\\n",
       "\t 1 & 1 & 0 & 0 & 0 & 0.400000000\\\\\n",
       "\t 1 & 1 & 0 & 0 & 1 & 0.600000000\\\\\n",
       "\t 1 & 1 & 0 & 1 & 0 & 0.950000000\\\\\n",
       "\t 1 & 1 & 0 & 1 & 1 & 0.050000000\\\\\n",
       "\t 1 & 1 & 1 & 0 & 0 &         NaN\\\\\n",
       "\t 1 & 1 & 1 & 0 & 1 &         NaN\\\\\n",
       "\t 1 & 1 & 1 & 1 & 0 & 1.000000000\\\\\n",
       "\t 1 & 1 & 1 & 1 & 1 & 0.000000000\\\\\n",
       "\\end{tabular}\n"
      ],
      "text/markdown": [
       "\n",
       "A matrix: 32 × 6 of type dbl\n",
       "\n",
       "| cond. x0 | cond. x1 | cond. x2 | cond. x4 | x3 | P |\n",
       "|---|---|---|---|---|---|\n",
       "| 0 | 0 | 0 | 0 | 0 | 0.983739837 |\n",
       "| 0 | 0 | 0 | 0 | 1 | 0.016260163 |\n",
       "| 0 | 0 | 0 | 1 | 0 | 0.993112948 |\n",
       "| 0 | 0 | 0 | 1 | 1 | 0.006887052 |\n",
       "| 0 | 0 | 1 | 0 | 0 | 1.000000000 |\n",
       "| 0 | 0 | 1 | 0 | 1 | 0.000000000 |\n",
       "| 0 | 0 | 1 | 1 | 0 | 0.916666667 |\n",
       "| 0 | 0 | 1 | 1 | 1 | 0.083333333 |\n",
       "| 0 | 1 | 0 | 0 | 0 | 0.871060172 |\n",
       "| 0 | 1 | 0 | 0 | 1 | 0.128939828 |\n",
       "| 0 | 1 | 0 | 1 | 0 | 0.887570621 |\n",
       "| 0 | 1 | 0 | 1 | 1 | 0.112429379 |\n",
       "| 0 | 1 | 1 | 0 | 0 | 1.000000000 |\n",
       "| 0 | 1 | 1 | 0 | 1 | 0.000000000 |\n",
       "| 0 | 1 | 1 | 1 | 0 | 0.785714286 |\n",
       "| 0 | 1 | 1 | 1 | 1 | 0.214285714 |\n",
       "| 1 | 0 | 0 | 0 | 0 | 1.000000000 |\n",
       "| 1 | 0 | 0 | 0 | 1 | 0.000000000 |\n",
       "| 1 | 0 | 0 | 1 | 0 | 1.000000000 |\n",
       "| 1 | 0 | 0 | 1 | 1 | 0.000000000 |\n",
       "| 1 | 0 | 1 | 0 | 0 |         NaN |\n",
       "| 1 | 0 | 1 | 0 | 1 |         NaN |\n",
       "| 1 | 0 | 1 | 1 | 0 | 1.000000000 |\n",
       "| 1 | 0 | 1 | 1 | 1 | 0.000000000 |\n",
       "| 1 | 1 | 0 | 0 | 0 | 0.400000000 |\n",
       "| 1 | 1 | 0 | 0 | 1 | 0.600000000 |\n",
       "| 1 | 1 | 0 | 1 | 0 | 0.950000000 |\n",
       "| 1 | 1 | 0 | 1 | 1 | 0.050000000 |\n",
       "| 1 | 1 | 1 | 0 | 0 |         NaN |\n",
       "| 1 | 1 | 1 | 0 | 1 |         NaN |\n",
       "| 1 | 1 | 1 | 1 | 0 | 1.000000000 |\n",
       "| 1 | 1 | 1 | 1 | 1 | 0.000000000 |\n",
       "\n"
      ],
      "text/plain": [
       "      cond. x0 cond. x1 cond. x2 cond. x4 x3 P          \n",
       " [1,] 0        0        0        0        0  0.983739837\n",
       " [2,] 0        0        0        0        1  0.016260163\n",
       " [3,] 0        0        0        1        0  0.993112948\n",
       " [4,] 0        0        0        1        1  0.006887052\n",
       " [5,] 0        0        1        0        0  1.000000000\n",
       " [6,] 0        0        1        0        1  0.000000000\n",
       " [7,] 0        0        1        1        0  0.916666667\n",
       " [8,] 0        0        1        1        1  0.083333333\n",
       " [9,] 0        1        0        0        0  0.871060172\n",
       "[10,] 0        1        0        0        1  0.128939828\n",
       "[11,] 0        1        0        1        0  0.887570621\n",
       "[12,] 0        1        0        1        1  0.112429379\n",
       "[13,] 0        1        1        0        0  1.000000000\n",
       "[14,] 0        1        1        0        1  0.000000000\n",
       "[15,] 0        1        1        1        0  0.785714286\n",
       "[16,] 0        1        1        1        1  0.214285714\n",
       "[17,] 1        0        0        0        0  1.000000000\n",
       "[18,] 1        0        0        0        1  0.000000000\n",
       "[19,] 1        0        0        1        0  1.000000000\n",
       "[20,] 1        0        0        1        1  0.000000000\n",
       "[21,] 1        0        1        0        0          NaN\n",
       "[22,] 1        0        1        0        1          NaN\n",
       "[23,] 1        0        1        1        0  1.000000000\n",
       "[24,] 1        0        1        1        1  0.000000000\n",
       "[25,] 1        1        0        0        0  0.400000000\n",
       "[26,] 1        1        0        0        1  0.600000000\n",
       "[27,] 1        1        0        1        0  0.950000000\n",
       "[28,] 1        1        0        1        1  0.050000000\n",
       "[29,] 1        1        1        0        0          NaN\n",
       "[30,] 1        1        1        0        1          NaN\n",
       "[31,] 1        1        1        1        0  1.000000000\n",
       "[32,] 1        1        1        1        1  0.000000000"
      ]
     },
     "metadata": {},
     "output_type": "display_data"
    }
   ],
   "source": [
    "conditionalProb(3, X, r, c(0,1,2,4))"
   ]
  },
  {
   "cell_type": "code",
   "execution_count": 41,
   "metadata": {},
   "outputs": [
    {
     "name": "stdout",
     "output_type": "stream",
     "text": [
      "[1] \"error\"\n",
      "[1] \"error\"\n",
      "[1] \"error\"\n",
      "[1] \"error\"\n",
      "[1] \"error\"\n",
      "[1] \"error\"\n",
      "[1] \"error\"\n",
      "[1] \"error\"\n",
      "[1] \"error\"\n",
      "[1] \"error\"\n",
      "[1] \"error\"\n",
      "[1] \"error\"\n",
      "[1] \"error\"\n",
      "[1] \"error\"\n",
      "[1] \"error\"\n",
      "[1] \"error\"\n",
      "[1] \"error\"\n",
      "[1] \"error\"\n",
      "[1] \"error\"\n",
      "[1] \"error\"\n",
      "[1] \"error\"\n",
      "[1] \"error\"\n",
      "[1] \"error\"\n",
      "[1] \"error\"\n",
      "[1] \"error\"\n",
      "[1] \"error\"\n"
     ]
    }
   ],
   "source": [
    "for(a in 1:dim(X)[1])\n",
    "{\n",
    "    if(X[a,1]==1 && X[a,2]==1)\n",
    "    {\n",
    "        print('error')\n",
    "    }\n",
    "}"
   ]
  },
  {
   "cell_type": "code",
   "execution_count": null,
   "metadata": {},
   "outputs": [],
   "source": []
  }
 ],
 "metadata": {
  "kernelspec": {
   "display_name": "R",
   "language": "R",
   "name": "ir"
  },
  "language_info": {
   "codemirror_mode": "r",
   "file_extension": ".r",
   "mimetype": "text/x-r-source",
   "name": "R",
   "pygments_lexer": "r",
   "version": "3.5.3"
  }
 },
 "nbformat": 4,
 "nbformat_minor": 2
}
