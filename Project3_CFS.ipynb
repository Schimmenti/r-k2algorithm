{
 "cells": [
  {
   "cell_type": "code",
   "execution_count": null,
   "metadata": {},
   "outputs": [],
   "source": [
    "#install.packages('Rcpp')\n",
    "#install.packages('bnstruct')\n",
    "#install.packages('bnlearn')"
   ]
  },
  {
   "cell_type": "code",
   "execution_count": 3,
   "metadata": {},
   "outputs": [
    {
     "name": "stderr",
     "output_type": "stream",
     "text": [
      "Loading required package: bitops\n",
      "Loading required package: Matrix\n",
      "Loading required package: igraph\n",
      "\n",
      "Attaching package: ‘igraph’\n",
      "\n",
      "The following objects are masked from ‘package:stats’:\n",
      "\n",
      "    decompose, spectrum\n",
      "\n",
      "The following object is masked from ‘package:base’:\n",
      "\n",
      "    union\n",
      "\n",
      "\n",
      "Attaching package: ‘bnlearn’\n",
      "\n",
      "The following objects are masked from ‘package:bnstruct’:\n",
      "\n",
      "    impute, read.bif, read.dsc, read.net, shd, write.dsc\n",
      "\n",
      "The following objects are masked from ‘package:igraph’:\n",
      "\n",
      "    compare, degree, path, subgraph\n",
      "\n",
      "The following object is masked from ‘package:stats’:\n",
      "\n",
      "    sigma\n",
      "\n"
     ]
    }
   ],
   "source": [
    "library(Rcpp)\n",
    "library(bnstruct)\n",
    "library(bnlearn)"
   ]
  },
  {
   "cell_type": "code",
   "execution_count": 4,
   "metadata": {},
   "outputs": [],
   "source": [
    "order <- c(0,1,2)  \n",
    "r <- c(2,2,2)\n",
    "data <- matrix(c(1,0,0,1,1,1,0,0,1,1,1,1,0,0,0,0,1,1,1,1,1,0,0,0,1,1,1,0,0,0), 10,3, byrow=T)\n",
    "mode(data) <- \"integer\""
   ]
  },
  {
   "cell_type": "code",
   "execution_count": 8,
   "metadata": {},
   "outputs": [],
   "source": [
    "sourceCpp('rk2alg.cpp')"
   ]
  },
  {
   "cell_type": "code",
   "execution_count": 9,
   "metadata": {},
   "outputs": [
    {
     "name": "stdout",
     "output_type": "stream",
     "text": [
      "Candidates for 0\n",
      "No parents for 0\n",
      "Candidates for 1\n",
      "Candidates for 2\n"
     ]
    },
    {
     "data": {
      "text/html": [
       "<ol>\n",
       "\t<li>-1</li>\n",
       "\t<li>0</li>\n",
       "\t<li>1</li>\n",
       "</ol>\n"
      ],
      "text/latex": [
       "\\begin{enumerate}\n",
       "\\item -1\n",
       "\\item 0\n",
       "\\item 1\n",
       "\\end{enumerate}\n"
      ],
      "text/markdown": [
       "1. -1\n",
       "2. 0\n",
       "3. 1\n",
       "\n",
       "\n"
      ],
      "text/plain": [
       "[[1]]\n",
       "[1] -1\n",
       "\n",
       "[[2]]\n",
       "[1] 0\n",
       "\n",
       "[[3]]\n",
       "[1] 1\n"
      ]
     },
     "metadata": {},
     "output_type": "display_data"
    }
   ],
   "source": [
    "scores = numeric();\n",
    "res <- k2procedure(data,r,order,scores,2)\n",
    "res"
   ]
  },
  {
   "cell_type": "code",
   "execution_count": 14,
   "metadata": {},
   "outputs": [
    {
     "data": {
      "text/html": [
       "<table>\n",
       "<caption>A matrix: 10 × 3 of type int</caption>\n",
       "<tbody>\n",
       "\t<tr><td>1</td><td>0</td><td>0</td></tr>\n",
       "\t<tr><td>1</td><td>1</td><td>1</td></tr>\n",
       "\t<tr><td>0</td><td>0</td><td>1</td></tr>\n",
       "\t<tr><td>1</td><td>1</td><td>1</td></tr>\n",
       "\t<tr><td>0</td><td>0</td><td>0</td></tr>\n",
       "\t<tr><td>0</td><td>1</td><td>1</td></tr>\n",
       "\t<tr><td>1</td><td>1</td><td>1</td></tr>\n",
       "\t<tr><td>0</td><td>0</td><td>0</td></tr>\n",
       "\t<tr><td>1</td><td>1</td><td>1</td></tr>\n",
       "\t<tr><td>0</td><td>0</td><td>0</td></tr>\n",
       "</tbody>\n",
       "</table>\n"
      ],
      "text/latex": [
       "A matrix: 10 × 3 of type int\n",
       "\\begin{tabular}{lll}\n",
       "\t 1 & 0 & 0\\\\\n",
       "\t 1 & 1 & 1\\\\\n",
       "\t 0 & 0 & 1\\\\\n",
       "\t 1 & 1 & 1\\\\\n",
       "\t 0 & 0 & 0\\\\\n",
       "\t 0 & 1 & 1\\\\\n",
       "\t 1 & 1 & 1\\\\\n",
       "\t 0 & 0 & 0\\\\\n",
       "\t 1 & 1 & 1\\\\\n",
       "\t 0 & 0 & 0\\\\\n",
       "\\end{tabular}\n"
      ],
      "text/markdown": [
       "\n",
       "A matrix: 10 × 3 of type int\n",
       "\n",
       "| 1 | 0 | 0 |\n",
       "| 1 | 1 | 1 |\n",
       "| 0 | 0 | 1 |\n",
       "| 1 | 1 | 1 |\n",
       "| 0 | 0 | 0 |\n",
       "| 0 | 1 | 1 |\n",
       "| 1 | 1 | 1 |\n",
       "| 0 | 0 | 0 |\n",
       "| 1 | 1 | 1 |\n",
       "| 0 | 0 | 0 |\n",
       "\n"
      ],
      "text/plain": [
       "      [,1] [,2] [,3]\n",
       " [1,] 1    0    0   \n",
       " [2,] 1    1    1   \n",
       " [3,] 0    0    1   \n",
       " [4,] 1    1    1   \n",
       " [5,] 0    0    0   \n",
       " [6,] 0    1    1   \n",
       " [7,] 1    1    1   \n",
       " [8,] 0    0    0   \n",
       " [9,] 1    1    1   \n",
       "[10,] 0    0    0   "
      ]
     },
     "metadata": {},
     "output_type": "display_data"
    },
    {
     "name": "stdout",
     "output_type": "stream",
     "text": [
      "n° samples: 10\n",
      "n° variables 3\n",
      "n° of conditions: 4\n"
     ]
    },
    {
     "data": {
      "text/html": [
       "<table>\n",
       "<caption>A matrix: 8 × 4 of type dbl</caption>\n",
       "<thead>\n",
       "\t<tr><th scope=col>x0</th><th scope=col>x1</th><th scope=col>x2</th><th scope=col>P</th></tr>\n",
       "</thead>\n",
       "<tbody>\n",
       "\t<tr><td>0</td><td>0</td><td>0</td><td>0.75</td></tr>\n",
       "\t<tr><td>0</td><td>0</td><td>1</td><td>0.25</td></tr>\n",
       "\t<tr><td>0</td><td>1</td><td>0</td><td>0.00</td></tr>\n",
       "\t<tr><td>0</td><td>1</td><td>1</td><td>1.00</td></tr>\n",
       "\t<tr><td>1</td><td>0</td><td>0</td><td>1.00</td></tr>\n",
       "\t<tr><td>1</td><td>0</td><td>1</td><td>0.00</td></tr>\n",
       "\t<tr><td>1</td><td>1</td><td>0</td><td>0.00</td></tr>\n",
       "\t<tr><td>1</td><td>1</td><td>1</td><td>1.00</td></tr>\n",
       "</tbody>\n",
       "</table>\n"
      ],
      "text/latex": [
       "A matrix: 8 × 4 of type dbl\n",
       "\\begin{tabular}{llll}\n",
       " x0 & x1 & x2 & P\\\\\n",
       "\\hline\n",
       "\t 0 & 0 & 0 & 0.75\\\\\n",
       "\t 0 & 0 & 1 & 0.25\\\\\n",
       "\t 0 & 1 & 0 & 0.00\\\\\n",
       "\t 0 & 1 & 1 & 1.00\\\\\n",
       "\t 1 & 0 & 0 & 1.00\\\\\n",
       "\t 1 & 0 & 1 & 0.00\\\\\n",
       "\t 1 & 1 & 0 & 0.00\\\\\n",
       "\t 1 & 1 & 1 & 1.00\\\\\n",
       "\\end{tabular}\n"
      ],
      "text/markdown": [
       "\n",
       "A matrix: 8 × 4 of type dbl\n",
       "\n",
       "| x0 | x1 | x2 | P |\n",
       "|---|---|---|---|\n",
       "| 0 | 0 | 0 | 0.75 |\n",
       "| 0 | 0 | 1 | 0.25 |\n",
       "| 0 | 1 | 0 | 0.00 |\n",
       "| 0 | 1 | 1 | 1.00 |\n",
       "| 1 | 0 | 0 | 1.00 |\n",
       "| 1 | 0 | 1 | 0.00 |\n",
       "| 1 | 1 | 0 | 0.00 |\n",
       "| 1 | 1 | 1 | 1.00 |\n",
       "\n"
      ],
      "text/plain": [
       "     x0 x1 x2 P   \n",
       "[1,] 0  0  0  0.75\n",
       "[2,] 0  0  1  0.25\n",
       "[3,] 0  1  0  0.00\n",
       "[4,] 0  1  1  1.00\n",
       "[5,] 1  0  0  1.00\n",
       "[6,] 1  0  1  0.00\n",
       "[7,] 1  1  0  0.00\n",
       "[8,] 1  1  1  1.00"
      ]
     },
     "metadata": {},
     "output_type": "display_data"
    }
   ],
   "source": [
    "data\n",
    "conditionalProb(2, data, r, c(0,1))"
   ]
  },
  {
   "cell_type": "markdown",
   "metadata": {},
   "source": [
    "### Bigger dataset"
   ]
  },
  {
   "cell_type": "code",
   "execution_count": null,
   "metadata": {
    "scrolled": false
   },
   "outputs": [],
   "source": [
    "X <- as.matrix(asia)\n",
    "n <- dim(X)[2]\n",
    "m <- dim(X)[1]\n",
    "X[X=='yes']=1\n",
    "X[X=='no']=0\n",
    "X<-matrix(as.integer(as.character(X)), m, n)\n",
    "order <- c(0,1,2,4,5,6,7,3)\n",
    "r <- rep(2, 8)\n",
    "X_train <- X[sample(m,100),]\n",
    "k2procedure(X_train,r,order,4)"
   ]
  },
  {
   "cell_type": "code",
   "execution_count": null,
   "metadata": {},
   "outputs": [],
   "source": [
    "res <- k2procedureSplit(X,r,order,verbose=0,u=4,100)"
   ]
  },
  {
   "cell_type": "code",
   "execution_count": null,
   "metadata": {},
   "outputs": [],
   "source": [
    "conditionalProb(3, X, r, unlist(res[4]))"
   ]
  },
  {
   "cell_type": "code",
   "execution_count": null,
   "metadata": {},
   "outputs": [],
   "source": []
  }
 ],
 "metadata": {
  "kernelspec": {
   "display_name": "R",
   "language": "R",
   "name": "ir"
  },
  "language_info": {
   "codemirror_mode": "r",
   "file_extension": ".r",
   "mimetype": "text/x-r-source",
   "name": "R",
   "pygments_lexer": "r",
   "version": "3.5.3"
  }
 },
 "nbformat": 4,
 "nbformat_minor": 2
}
