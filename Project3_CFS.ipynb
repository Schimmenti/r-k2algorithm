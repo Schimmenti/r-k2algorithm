{
 "cells": [
  {
   "cell_type": "code",
   "execution_count": null,
   "metadata": {},
   "outputs": [],
   "source": [
    "#install.packages('Rcpp')\n",
    "#install.packages('bnstruct')\n",
    "#install.packages('bnlearn')"
   ]
  },
  {
   "cell_type": "code",
   "execution_count": 17,
   "metadata": {},
   "outputs": [],
   "source": [
    "library(Rcpp)\n",
    "library(bnstruct)\n",
    "library(bnlearn)"
   ]
  },
  {
   "cell_type": "code",
   "execution_count": null,
   "metadata": {},
   "outputs": [],
   "source": [
    "sourceCpp('rk2alg.cpp')"
   ]
  },
  {
   "cell_type": "code",
   "execution_count": null,
   "metadata": {},
   "outputs": [],
   "source": [
    "order <- c(0,1,2)  \n",
    "r <- c(2,2,2)\n",
    "data <- matrix(c(1,0,0,1,1,1,0,0,1,1,1,1,0,0,0,0,1,1,1,1,1,0,0,0,1,1,1,0,0,0), 10,3, byrow=T)\n",
    "mode(data) <- \"integer\""
   ]
  },
  {
   "cell_type": "code",
   "execution_count": null,
   "metadata": {},
   "outputs": [],
   "source": [
    "res <- k2procedure(data,r,order,u=2)\n",
    "res"
   ]
  },
  {
   "cell_type": "markdown",
   "metadata": {},
   "source": [
    "### Bigger dataset"
   ]
  },
  {
   "cell_type": "code",
   "execution_count": 13,
   "metadata": {
    "scrolled": false
   },
   "outputs": [],
   "source": [
    "X <- as.matrix(asia)\n",
    "n <- dim(X)[2]\n",
    "m <- dim(X)[1]\n",
    "X[X=='yes']=1\n",
    "X[X=='no']=0\n",
    "X<-matrix(as.integer(as.character(X)), m, n)\n",
    "order <- c(0,1,2,4,5,6,7,3)\n",
    "r <- rep(2, 8)\n",
    "X_train <- X[sample(m,100),]\n",
    "res <- k2procedure(X_train,r,order,4,)"
   ]
  },
  {
   "cell_type": "code",
   "execution_count": 15,
   "metadata": {},
   "outputs": [
    {
     "data": {
      "text/html": [
       "<ol>\n",
       "\t<li>-1</li>\n",
       "\t<li>-1</li>\n",
       "\t<li>-1</li>\n",
       "\t<li><ol class=list-inline>\n",
       "\t<li>4</li>\n",
       "\t<li>5</li>\n",
       "</ol>\n",
       "</li>\n",
       "\t<li><ol class=list-inline>\n",
       "\t<li>0</li>\n",
       "\t<li>2</li>\n",
       "</ol>\n",
       "</li>\n",
       "\t<li><ol class=list-inline>\n",
       "\t<li>1</li>\n",
       "\t<li>2</li>\n",
       "\t<li>4</li>\n",
       "</ol>\n",
       "</li>\n",
       "\t<li><ol class=list-inline>\n",
       "\t<li>1</li>\n",
       "\t<li>2</li>\n",
       "\t<li>4</li>\n",
       "</ol>\n",
       "</li>\n",
       "\t<li>-1</li>\n",
       "</ol>\n"
      ],
      "text/latex": [
       "\\begin{enumerate}\n",
       "\\item -1\n",
       "\\item -1\n",
       "\\item -1\n",
       "\\item \\begin{enumerate*}\n",
       "\\item 4\n",
       "\\item 5\n",
       "\\end{enumerate*}\n",
       "\n",
       "\\item \\begin{enumerate*}\n",
       "\\item 0\n",
       "\\item 2\n",
       "\\end{enumerate*}\n",
       "\n",
       "\\item \\begin{enumerate*}\n",
       "\\item 1\n",
       "\\item 2\n",
       "\\item 4\n",
       "\\end{enumerate*}\n",
       "\n",
       "\\item \\begin{enumerate*}\n",
       "\\item 1\n",
       "\\item 2\n",
       "\\item 4\n",
       "\\end{enumerate*}\n",
       "\n",
       "\\item -1\n",
       "\\end{enumerate}\n"
      ],
      "text/markdown": [
       "1. -1\n",
       "2. -1\n",
       "3. -1\n",
       "4. 1. 4\n",
       "2. 5\n",
       "\n",
       "\n",
       "\n",
       "5. 1. 0\n",
       "2. 2\n",
       "\n",
       "\n",
       "\n",
       "6. 1. 1\n",
       "2. 2\n",
       "3. 4\n",
       "\n",
       "\n",
       "\n",
       "7. 1. 1\n",
       "2. 2\n",
       "3. 4\n",
       "\n",
       "\n",
       "\n",
       "8. -1\n",
       "\n",
       "\n"
      ],
      "text/plain": [
       "[[1]]\n",
       "[1] -1\n",
       "\n",
       "[[2]]\n",
       "[1] -1\n",
       "\n",
       "[[3]]\n",
       "[1] -1\n",
       "\n",
       "[[4]]\n",
       "[1] 4 5\n",
       "\n",
       "[[5]]\n",
       "[1] 0 2\n",
       "\n",
       "[[6]]\n",
       "[1] 1 2 4\n",
       "\n",
       "[[7]]\n",
       "[1] 1 2 4\n",
       "\n",
       "[[8]]\n",
       "[1] -1\n"
      ]
     },
     "metadata": {},
     "output_type": "display_data"
    }
   ],
   "source": [
    "res <- k2procedure(X,r,order,verbose=0,u=4,50)\n",
    "res"
   ]
  },
  {
   "cell_type": "code",
   "execution_count": 16,
   "metadata": {},
   "outputs": [
    {
     "data": {
      "text/html": [
       "<table>\n",
       "<caption>A matrix: 8 × 4 of type dbl</caption>\n",
       "<thead>\n",
       "\t<tr><th scope=col>cond. x4</th><th scope=col>cond. x5</th><th scope=col>x3</th><th scope=col>P</th></tr>\n",
       "</thead>\n",
       "<tbody>\n",
       "\t<tr><td>0</td><td>0</td><td>0</td><td>1.0000000</td></tr>\n",
       "\t<tr><td>0</td><td>0</td><td>1</td><td>0.0000000</td></tr>\n",
       "\t<tr><td>0</td><td>1</td><td>0</td><td>0.1167883</td></tr>\n",
       "\t<tr><td>0</td><td>1</td><td>1</td><td>0.8832117</td></tr>\n",
       "\t<tr><td>1</td><td>0</td><td>0</td><td>1.0000000</td></tr>\n",
       "\t<tr><td>1</td><td>0</td><td>1</td><td>0.0000000</td></tr>\n",
       "\t<tr><td>1</td><td>1</td><td>0</td><td>0.1030043</td></tr>\n",
       "\t<tr><td>1</td><td>1</td><td>1</td><td>0.8969957</td></tr>\n",
       "</tbody>\n",
       "</table>\n"
      ],
      "text/latex": [
       "A matrix: 8 × 4 of type dbl\n",
       "\\begin{tabular}{llll}\n",
       " cond. x4 & cond. x5 & x3 & P\\\\\n",
       "\\hline\n",
       "\t 0 & 0 & 0 & 1.0000000\\\\\n",
       "\t 0 & 0 & 1 & 0.0000000\\\\\n",
       "\t 0 & 1 & 0 & 0.1167883\\\\\n",
       "\t 0 & 1 & 1 & 0.8832117\\\\\n",
       "\t 1 & 0 & 0 & 1.0000000\\\\\n",
       "\t 1 & 0 & 1 & 0.0000000\\\\\n",
       "\t 1 & 1 & 0 & 0.1030043\\\\\n",
       "\t 1 & 1 & 1 & 0.8969957\\\\\n",
       "\\end{tabular}\n"
      ],
      "text/markdown": [
       "\n",
       "A matrix: 8 × 4 of type dbl\n",
       "\n",
       "| cond. x4 | cond. x5 | x3 | P |\n",
       "|---|---|---|---|\n",
       "| 0 | 0 | 0 | 1.0000000 |\n",
       "| 0 | 0 | 1 | 0.0000000 |\n",
       "| 0 | 1 | 0 | 0.1167883 |\n",
       "| 0 | 1 | 1 | 0.8832117 |\n",
       "| 1 | 0 | 0 | 1.0000000 |\n",
       "| 1 | 0 | 1 | 0.0000000 |\n",
       "| 1 | 1 | 0 | 0.1030043 |\n",
       "| 1 | 1 | 1 | 0.8969957 |\n",
       "\n"
      ],
      "text/plain": [
       "     cond. x4 cond. x5 x3 P        \n",
       "[1,] 0        0        0  1.0000000\n",
       "[2,] 0        0        1  0.0000000\n",
       "[3,] 0        1        0  0.1167883\n",
       "[4,] 0        1        1  0.8832117\n",
       "[5,] 1        0        0  1.0000000\n",
       "[6,] 1        0        1  0.0000000\n",
       "[7,] 1        1        0  0.1030043\n",
       "[8,] 1        1        1  0.8969957"
      ]
     },
     "metadata": {},
     "output_type": "display_data"
    }
   ],
   "source": [
    "conditionalProb(3, X, r, unlist(res[4]))"
   ]
  },
  {
   "cell_type": "code",
   "execution_count": null,
   "metadata": {},
   "outputs": [],
   "source": []
  }
 ],
 "metadata": {
  "kernelspec": {
   "display_name": "R",
   "language": "R",
   "name": "ir"
  },
  "language_info": {
   "codemirror_mode": "r",
   "file_extension": ".r",
   "mimetype": "text/x-r-source",
   "name": "R",
   "pygments_lexer": "r",
   "version": "3.5.3"
  }
 },
 "nbformat": 4,
 "nbformat_minor": 2
}
